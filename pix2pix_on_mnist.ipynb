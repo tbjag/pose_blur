{
 "cells": [
  {
   "cell_type": "code",
   "execution_count": null,
   "metadata": {
    "colab": {
     "base_uri": "https://localhost:8080/"
    },
    "id": "eN8N1ULjLQ4R",
    "outputId": "590c1aec-cdd7-4589-c012-a5dcdc8d5b35"
   },
   "outputs": [],
   "source": []
  },
  {
   "cell_type": "code",
   "execution_count": 36,
   "metadata": {
    "colab": {
     "base_uri": "https://localhost:8080/"
    },
    "id": "HcKyikUb2ogS",
    "outputId": "799051a0-44cf-4f63-a724-9d56fff39f5c"
   },
   "outputs": [
    {
     "name": "stdout",
     "output_type": "stream",
     "text": [
      "Python 3.10.15\n"
     ]
    }
   ],
   "source": [
    "!python -V"
   ]
  },
  {
   "cell_type": "code",
   "execution_count": null,
   "metadata": {
    "colab": {
     "base_uri": "https://localhost:8080/"
    },
    "id": "jYrcJDkCLTSa",
    "outputId": "d91d97a4-f3eb-473f-f3a7-600ee405141e"
   },
   "outputs": [],
   "source": []
  },
  {
   "cell_type": "code",
   "execution_count": 37,
   "metadata": {
    "id": "-mtq-Jk7LUhN"
   },
   "outputs": [],
   "source": [
    "import os\n",
    "from torchvision import datasets, transforms\n",
    "from torchvision.transforms.functional import to_pil_image\n",
    "from PIL import Image, ImageFilter"
   ]
  },
  {
   "cell_type": "code",
   "execution_count": 38,
   "metadata": {
    "id": "CjY8va9nLVtf"
   },
   "outputs": [],
   "source": [
    "data_dir = './data'\n",
    "paired_dir = './data/mnist_blur_pairs'\n",
    "\n",
    "os.makedirs(paired_dir, exist_ok=True)"
   ]
  },
  {
   "cell_type": "code",
   "execution_count": 39,
   "metadata": {
    "colab": {
     "base_uri": "https://localhost:8080/"
    },
    "id": "30FoVPNNLXfr",
    "outputId": "02f153f7-9382-49d9-f0a6-e4421f632ce4"
   },
   "outputs": [],
   "source": [
    "transform = transforms.Compose([transforms.ToTensor()])\n",
    "mnist_dataset = datasets.MNIST(root=data_dir, train=True, download=True, transform=transform)"
   ]
  },
  {
   "cell_type": "code",
   "execution_count": 40,
   "metadata": {
    "colab": {
     "base_uri": "https://localhost:8080/"
    },
    "id": "Sy3hZZJ0LZUN",
    "outputId": "6cfcf3a4-053a-46c9-cb7d-cf7299402657"
   },
   "outputs": [
    {
     "name": "stdout",
     "output_type": "stream",
     "text": [
      "Paired dataset created with original and blurred MNIST images.\n"
     ]
    }
   ],
   "source": [
    "for i, (image, _) in enumerate(mnist_dataset):\n",
    "    pil_image = to_pil_image(image)  # Convert to PIL image\n",
    "    blurred_image = pil_image.filter(ImageFilter.GaussianBlur(radius=2))  # Apply Gaussian blur\n",
    "\n",
    "    # Concatenate original and blurred images horizontally to create paired data\n",
    "    paired_image = Image.new('L', (pil_image.width * 2, pil_image.height))\n",
    "    paired_image.paste(pil_image, (0, 0))\n",
    "    paired_image.paste(blurred_image, (pil_image.width, 0))\n",
    "\n",
    "    # Save the paired image\n",
    "    paired_image.save(os.path.join(paired_dir, f'pair_{i}.png'))\n",
    "\n",
    "print(\"Paired dataset created with original and blurred MNIST images.\")"
   ]
  },
  {
   "cell_type": "code",
   "execution_count": 41,
   "metadata": {
    "colab": {
     "base_uri": "https://localhost:8080/"
    },
    "id": "PqqTZBgzQdFx",
    "outputId": "be66a158-3b35-4959-c813-9ef348a2db29"
   },
   "outputs": [
    {
     "name": "stdout",
     "output_type": "stream",
     "text": [
      "Total images in paired directory: 60000\n",
      "Dataset organized into train and test folders.\n"
     ]
    }
   ],
   "source": [
    "import shutil\n",
    "from sklearn.model_selection import train_test_split\n",
    "\n",
    "# Define directories\n",
    "paired_dir = './data/mnist_blur_pairs'\n",
    "train_dir = os.path.join(paired_dir, 'train')\n",
    "test_dir = os.path.join(paired_dir, 'test')\n",
    "\n",
    "# Create train and test directories\n",
    "os.makedirs(train_dir, exist_ok=True)\n",
    "os.makedirs(test_dir, exist_ok=True)\n",
    "\n",
    "# Get all images in the paired directory\n",
    "all_images = [f for f in os.listdir(paired_dir) if f.endswith('.png')]\n",
    "print(f\"Total images in paired directory: {len(all_images)}\")\n",
    "\n",
    "# Split images into train and test sets (e.g., 80% train, 20% test)\n",
    "train_images, test_images = train_test_split(all_images, test_size=0.2, random_state=42)\n",
    "\n",
    "# Move images to train and test directories\n",
    "for image in train_images:\n",
    "    shutil.move(os.path.join(paired_dir, image), os.path.join(train_dir, image))\n",
    "\n",
    "for image in test_images:\n",
    "    shutil.move(os.path.join(paired_dir, image), os.path.join(test_dir, image))\n",
    "\n",
    "print(\"Dataset organized into train and test folders.\")\n"
   ]
  },
  {
   "cell_type": "code",
   "execution_count": 42,
   "metadata": {},
   "outputs": [
    {
     "name": "stdout",
     "output_type": "stream",
     "text": [
      "Thu Nov 14 15:49:00 2024       \n",
      "+---------------------------------------------------------------------------------------+\n",
      "| NVIDIA-SMI 535.183.01             Driver Version: 535.183.01   CUDA Version: 12.2     |\n",
      "|-----------------------------------------+----------------------+----------------------+\n",
      "| GPU  Name                 Persistence-M | Bus-Id        Disp.A | Volatile Uncorr. ECC |\n",
      "| Fan  Temp   Perf          Pwr:Usage/Cap |         Memory-Usage | GPU-Util  Compute M. |\n",
      "|                                         |                      |               MIG M. |\n",
      "|=========================================+======================+======================|\n",
      "|   0  NVIDIA RTX A6000               Off | 00000000:21:00.0 Off |                  Off |\n",
      "| 30%   38C    P8              22W / 300W |     17MiB / 49140MiB |      0%      Default |\n",
      "|                                         |                      |                  N/A |\n",
      "+-----------------------------------------+----------------------+----------------------+\n",
      "|   1  NVIDIA RTX A6000               Off | 00000000:22:00.0 Off |                  Off |\n",
      "| 30%   43C    P8              18W / 300W |     17MiB / 49140MiB |      0%      Default |\n",
      "|                                         |                      |                  N/A |\n",
      "+-----------------------------------------+----------------------+----------------------+\n",
      "|   2  NVIDIA RTX A6000               Off | 00000000:41:00.0  On |                  Off |\n",
      "| 30%   39C    P8              35W / 300W |    815MiB / 49140MiB |     38%      Default |\n",
      "|                                         |                      |                  N/A |\n",
      "+-----------------------------------------+----------------------+----------------------+\n",
      "|   3  NVIDIA RTX A6000               Off | 00000000:43:00.0 Off |                  Off |\n",
      "| 31%   44C    P8              21W / 300W |     17MiB / 49140MiB |      0%      Default |\n",
      "|                                         |                      |                  N/A |\n",
      "+-----------------------------------------+----------------------+----------------------+\n",
      "                                                                                         \n",
      "+---------------------------------------------------------------------------------------+\n",
      "| Processes:                                                                            |\n",
      "|  GPU   GI   CI        PID   Type   Process name                            GPU Memory |\n",
      "|        ID   ID                                                             Usage      |\n",
      "|=======================================================================================|\n",
      "|    0   N/A  N/A     12854      G   /usr/lib/xorg/Xorg                            4MiB |\n",
      "|    0   N/A  N/A    853591      G   /usr/lib/xorg/Xorg                            4MiB |\n",
      "|    1   N/A  N/A     12854      G   /usr/lib/xorg/Xorg                            4MiB |\n",
      "|    1   N/A  N/A    853591      G   /usr/lib/xorg/Xorg                            4MiB |\n",
      "|    2   N/A  N/A     12854      G   /usr/lib/xorg/Xorg                          154MiB |\n",
      "|    2   N/A  N/A     13208      G   /usr/bin/gnome-shell                         54MiB |\n",
      "|    2   N/A  N/A     26893      G   ...erProcess --variations-seed-version      107MiB |\n",
      "|    2   N/A  N/A     27521      G   ...irefox/5273/usr/lib/firefox/firefox      158MiB |\n",
      "|    2   N/A  N/A    853591      G   /usr/lib/xorg/Xorg                           70MiB |\n",
      "|    2   N/A  N/A    854393      G   ...3/usr/bin/snapd-desktop-integration       51MiB |\n",
      "|    3   N/A  N/A     12854      G   /usr/lib/xorg/Xorg                            4MiB |\n",
      "|    3   N/A  N/A    853591      G   /usr/lib/xorg/Xorg                            4MiB |\n",
      "+---------------------------------------------------------------------------------------+\n"
     ]
    }
   ],
   "source": [
    "!nvidia-smi"
   ]
  },
  {
   "cell_type": "code",
   "execution_count": 46,
   "metadata": {
    "colab": {
     "base_uri": "https://localhost:8080/"
    },
    "id": "P8u32vXNLb3Y",
    "outputId": "ddebcea5-0f7b-4d5d-9882-4930eb5871f0"
   },
   "outputs": [
    {
     "name": "stdout",
     "output_type": "stream",
     "text": [
      "^C\n",
      "Traceback (most recent call last):\n",
      "  File \"/home/project/GAN_project/pose_blur/train.py\", line 22, in <module>\n",
      "    from options.train_options import TrainOptions\n",
      "  File \"/home/project/GAN_project/pose_blur/options/train_options.py\", line 1, in <module>\n",
      "    from .base_options import BaseOptions\n",
      "  File \"/home/project/GAN_project/pose_blur/options/base_options.py\", line 3, in <module>\n",
      "    from util import util\n",
      "  File \"/home/project/GAN_project/pose_blur/util/util.py\", line 3, in <module>\n",
      "    import torch\n",
      "  File \"/home/project/anaconda3/envs/W-Net/lib/python3.10/site-packages/torch/__init__.py\", line 367, in <module>\n",
      "    from torch._C import *  # noqa: F403\n",
      "  File \"<frozen importlib._bootstrap>\", line 216, in _lock_unlock_module\n",
      "KeyboardInterrupt\n"
     ]
    }
   ],
   "source": [
    "!python train.py --dataroot ./data/mnist_blur_pairs --name mnist_blur_pix2pix --model pix2pix --direction AtoB --display_id 1 --gpu_ids 0 --batch_size 128\n"
   ]
  },
  {
   "cell_type": "code",
   "execution_count": null,
   "metadata": {
    "id": "TEyTWDUZLc8z"
   },
   "outputs": [
    {
     "name": "stdout",
     "output_type": "stream",
     "text": [
      "Note: available models are edges2shoes, sat2map, map2sat, facades_label2photo, and day2night\n",
      "Specified [mnist_blur_pix2pix]\n",
      "WARNING: timestamping does nothing in combination with -O. See the manual\n",
      "for details.\n",
      "\n",
      "--2024-11-14 15:44:46--  http://efrosgans.eecs.berkeley.edu/pix2pix/models-pytorch/mnist_blur_pix2pix.pth\n",
      "Resolving efrosgans.eecs.berkeley.edu (efrosgans.eecs.berkeley.edu)... 128.32.244.190\n",
      "Connecting to efrosgans.eecs.berkeley.edu (efrosgans.eecs.berkeley.edu)|128.32.244.190|:80... connected.\n",
      "HTTP request sent, awaiting response... 404 Not Found\n",
      "2024-11-14 15:44:46 ERROR 404: Not Found.\n",
      "\n"
     ]
    }
   ],
   "source": [
    "!bash ./scripts/download_pix2pix_model.sh mnist_blur_pix2pix"
   ]
  },
  {
   "cell_type": "code",
   "execution_count": null,
   "metadata": {
    "id": "UajF81MaLgyi"
   },
   "outputs": [
    {
     "name": "stdout",
     "output_type": "stream",
     "text": [
      "Traceback (most recent call last):\n",
      "  File \"/home/project/GAN_project/pose_blur/test.py\", line 30, in <module>\n",
      "    from options.test_options import TestOptions\n",
      "  File \"/home/project/GAN_project/pose_blur/options/test_options.py\", line 1, in <module>\n",
      "    from .base_options import BaseOptions\n",
      "  File \"/home/project/GAN_project/pose_blur/options/base_options.py\", line 6, in <module>\n",
      "    import data\n",
      "  File \"/home/project/GAN_project/pose_blur/data/__init__.py\", line 15, in <module>\n",
      "    from data.base_dataset import BaseDataset\n",
      "  File \"/home/project/GAN_project/pose_blur/data/base_dataset.py\", line 9, in <module>\n",
      "    import torchvision.transforms as transforms\n",
      "  File \"/home/project/anaconda3/envs/W-Net/lib/python3.10/site-packages/torchvision/__init__.py\", line 10, in <module>\n",
      "    from torchvision import _meta_registrations, datasets, io, models, ops, transforms, utils  # usort:skip\n",
      "  File \"/home/project/anaconda3/envs/W-Net/lib/python3.10/site-packages/torchvision/_meta_registrations.py\", line 164, in <module>\n",
      "    def meta_nms(dets, scores, iou_threshold):\n",
      "  File \"/home/project/anaconda3/envs/W-Net/lib/python3.10/site-packages/torch/library.py\", line 795, in register\n",
      "    use_lib._register_fake(op_name, func, _stacklevel=stacklevel + 1)\n",
      "  File \"/home/project/anaconda3/envs/W-Net/lib/python3.10/site-packages/torch/library.py\", line 184, in _register_fake\n",
      "    handle = entry.fake_impl.register(func_to_register, source)\n",
      "  File \"/home/project/anaconda3/envs/W-Net/lib/python3.10/site-packages/torch/_library/fake_impl.py\", line 31, in register\n",
      "    if torch._C._dispatch_has_kernel_for_dispatch_key(self.qualname, \"Meta\"):\n",
      "RuntimeError: operator torchvision::nms does not exist\n"
     ]
    }
   ],
   "source": [
    "!python test.py --dataroot ./data/mnist_blur_pairs --direction AtoB --model pix2pix --name mnist_blur_pix2pix --gpu_ids -1 --use_wandb\n"
   ]
  },
  {
   "cell_type": "code",
   "execution_count": null,
   "metadata": {
    "id": "4Q5cvfrCIstX"
   },
   "outputs": [
    {
     "ename": "ModuleNotFoundError",
     "evalue": "No module named 'matplotlib'",
     "output_type": "error",
     "traceback": [
      "\u001b[0;31m---------------------------------------------------------------------------\u001b[0m",
      "\u001b[0;31mModuleNotFoundError\u001b[0m                       Traceback (most recent call last)",
      "Cell \u001b[0;32mIn[35], line 2\u001b[0m\n\u001b[1;32m      1\u001b[0m \u001b[38;5;66;03m# Visualize the Results ----\u001b[39;00m\n\u001b[0;32m----> 2\u001b[0m \u001b[38;5;28;01mimport\u001b[39;00m \u001b[38;5;21;01mmatplotlib\u001b[39;00m\u001b[38;5;21;01m.\u001b[39;00m\u001b[38;5;21;01mpyplot\u001b[39;00m \u001b[38;5;28;01mas\u001b[39;00m \u001b[38;5;21;01mplt\u001b[39;00m\n\u001b[1;32m      4\u001b[0m \u001b[38;5;66;03m# Load and display generated images\u001b[39;00m\n\u001b[1;32m      5\u001b[0m \u001b[38;5;66;03m# Note: Adjust the file path if necessary to match the output structure of your experiment\u001b[39;00m\n\u001b[1;32m      6\u001b[0m fake_image_path \u001b[38;5;241m=\u001b[39m \u001b[38;5;124m'\u001b[39m\u001b[38;5;124m./results/mnist_blur_pix2pix/test_latest/images/0_fake_B.png\u001b[39m\u001b[38;5;124m'\u001b[39m\n",
      "\u001b[0;31mModuleNotFoundError\u001b[0m: No module named 'matplotlib'"
     ]
    }
   ],
   "source": [
    "# Visualize the Results ----\n",
    "import matplotlib.pyplot as plt\n",
    "\n",
    "# Load and display generated images\n",
    "# Note: Adjust the file path if necessary to match the output structure of your experiment\n",
    "fake_image_path = './results/mnist_blur_pix2pix/test_latest/images/0_fake_B.png'\n",
    "real_image_path = './results/mnist_blur_pix2pix/test_latest/images/0_real_A.png'\n",
    "target_image_path = './results/mnist_blur_pix2pix/test_latest/images/0_real_B.png'\n",
    "\n",
    "# Display fake (generated) image\n",
    "img = plt.imread(fake_image_path)\n",
    "plt.figure(figsize=(5, 5))\n",
    "plt.title(\"Generated (Fake) Blurred Image\")\n",
    "plt.imshow(img, cmap='gray')\n",
    "plt.axis('off')\n",
    "plt.show()\n",
    "\n",
    "# Display real (original) input image\n",
    "img = plt.imread(real_image_path)\n",
    "plt.figure(figsize=(5, 5))\n",
    "plt.title(\"Original MNIST Image (Real A)\")\n",
    "plt.imshow(img, cmap='gray')\n",
    "plt.axis('off')\n",
    "plt.show()\n",
    "\n",
    "# Display target (blurred) image\n",
    "img = plt.imread(target_image_path)\n",
    "plt.figure(figsize=(5, 5))\n",
    "plt.title(\"Blurred MNIST Image (Real B)\")\n",
    "plt.imshow(img, cmap='gray')\n",
    "plt.axis('off')\n",
    "plt.show()\n"
   ]
  },
  {
   "cell_type": "code",
   "execution_count": null,
   "metadata": {
    "id": "pUXfJLEtLhwb"
   },
   "outputs": [],
   "source": [
    "# Zip the model checkpoint folder\n",
    "!zip -r mnist_blur_pix2pix_checkpoints.zip checkpoints/mnist_blur_pix2pix/\n",
    "\n",
    "# Download the zipped file to your local device\n",
    "from google.colab import files\n",
    "files.download(\"mnist_blur_pix2pix_checkpoints.zip\")\n"
   ]
  }
 ],
 "metadata": {
  "accelerator": "GPU",
  "colab": {
   "gpuType": "T4",
   "provenance": []
  },
  "kernelspec": {
   "display_name": "W-Net",
   "language": "python",
   "name": "python3"
  },
  "language_info": {
   "codemirror_mode": {
    "name": "ipython",
    "version": 3
   },
   "file_extension": ".py",
   "mimetype": "text/x-python",
   "name": "python",
   "nbconvert_exporter": "python",
   "pygments_lexer": "ipython3",
   "version": "3.8.20"
  }
 },
 "nbformat": 4,
 "nbformat_minor": 0
}
