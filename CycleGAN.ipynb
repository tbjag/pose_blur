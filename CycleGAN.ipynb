{
 "cells": [
  {
   "cell_type": "markdown",
   "metadata": {
    "colab_type": "text",
    "id": "view-in-github"
   },
   "source": [
    "<a href=\"https://colab.research.google.com/github/bkkaggle/pytorch-CycleGAN-and-pix2pix/blob/master/CycleGAN.ipynb\" target=\"_parent\"><img src=\"https://colab.research.google.com/assets/colab-badge.svg\" alt=\"Open In Colab\"/></a>"
   ]
  },
  {
   "cell_type": "markdown",
   "metadata": {
    "colab_type": "text",
    "id": "5VIGyIus8Vr7"
   },
   "source": [
    "Take a look at the [repository](https://github.com/junyanz/pytorch-CycleGAN-and-pix2pix) for more information"
   ]
  },
  {
   "cell_type": "markdown",
   "metadata": {
    "colab_type": "text",
    "id": "7wNjDKdQy35h"
   },
   "source": [
    "# Install"
   ]
  },
  {
   "cell_type": "code",
   "execution_count": null,
   "metadata": {
    "colab": {},
    "colab_type": "code",
    "id": "TRm-USlsHgEV"
   },
   "outputs": [],
   "source": [
    "!git clone https://github.com/junyanz/pytorch-CycleGAN-and-pix2pix"
   ]
  },
  {
   "cell_type": "code",
   "execution_count": null,
   "metadata": {
    "colab": {},
    "colab_type": "code",
    "id": "Pt3igws3eiVp"
   },
   "outputs": [],
   "source": [
    "import os\n",
    "os.chdir('pytorch-CycleGAN-and-pix2pix/')"
   ]
  },
  {
   "cell_type": "code",
   "execution_count": null,
   "metadata": {
    "colab": {},
    "colab_type": "code",
    "id": "z1EySlOXwwoa"
   },
   "outputs": [],
   "source": [
    "!pip install -r requirements.txt"
   ]
  },
  {
   "cell_type": "markdown",
   "metadata": {
    "colab_type": "text",
    "id": "8daqlgVhw29P"
   },
   "source": [
    "# Datasets\n",
    "\n",
    "Download one of the official datasets with:\n",
    "\n",
    "-   `bash ./datasets/download_cyclegan_dataset.sh [apple2orange, summer2winter_yosemite, horse2zebra, monet2photo, cezanne2photo, ukiyoe2photo, vangogh2photo, maps, cityscapes, facades, iphone2dslr_flower, ae_photos]`\n",
    "\n",
    "Or use your own dataset by creating the appropriate folders and adding in the images.\n",
    "\n",
    "-   Create a dataset folder under `/dataset` for your dataset.\n",
    "-   Create subfolders `testA`, `testB`, `trainA`, and `trainB` under your dataset's folder. Place any images you want to transform from a to b (cat2dog) in the `testA` folder, images you want to transform from b to a (dog2cat) in the `testB` folder, and do the same for the `trainA` and `trainB` folders."
   ]
  },
  {
   "cell_type": "code",
   "execution_count": null,
   "metadata": {
    "colab": {},
    "colab_type": "code",
    "id": "vrdOettJxaCc"
   },
   "outputs": [],
   "source": [
    "!bash ./datasets/download_cyclegan_dataset.sh horse2zebra"
   ]
  },
  {
   "cell_type": "markdown",
   "metadata": {
    "colab_type": "text",
    "id": "gdUz4116xhpm"
   },
   "source": [
    "# Pretrained models\n",
    "\n",
    "Download one of the official pretrained models with:\n",
    "\n",
    "-   `bash ./scripts/download_cyclegan_model.sh [apple2orange, orange2apple, summer2winter_yosemite, winter2summer_yosemite, horse2zebra, zebra2horse, monet2photo, style_monet, style_cezanne, style_ukiyoe, style_vangogh, sat2map, map2sat, cityscapes_photo2label, cityscapes_label2photo, facades_photo2label, facades_label2photo, iphone2dslr_flower]`\n",
    "\n",
    "Or add your own pretrained model to `./checkpoints/{NAME}_pretrained/latest_net_G.pt`"
   ]
  },
  {
   "cell_type": "code",
   "execution_count": null,
   "metadata": {
    "colab": {},
    "colab_type": "code",
    "id": "B75UqtKhxznS"
   },
   "outputs": [],
   "source": [
    "!bash ./scripts/download_cyclegan_model.sh horse2zebra"
   ]
  },
  {
   "cell_type": "markdown",
   "metadata": {
    "colab_type": "text",
    "id": "yFw1kDQBx3LN"
   },
   "source": [
    "# Training\n",
    "\n",
    "-   `python train.py --dataroot ./datasets/horse2zebra --name horse2zebra --model cycle_gan`\n",
    "\n",
    "Change the `--dataroot` and `--name` to your own dataset's path and model's name. Use `--gpu_ids 0,1,..` to train on multiple GPUs and `--batch_size` to change the batch size. I've found that a batch size of 16 fits onto 4 V100s and can finish training an epoch in ~90s.\n",
    "\n",
    "Once your model has trained, copy over the last checkpoint to a format that the testing model can automatically detect:\n",
    "\n",
    "Use `cp ./checkpoints/horse2zebra/latest_net_G_A.pth ./checkpoints/horse2zebra/latest_net_G.pth` if you want to transform images from class A to class B and `cp ./checkpoints/horse2zebra/latest_net_G_B.pth ./checkpoints/horse2zebra/latest_net_G.pth` if you want to transform images from class B to class A.\n"
   ]
  },
  {
   "cell_type": "code",
   "execution_count": null,
   "metadata": {
    "colab": {},
    "colab_type": "code",
    "id": "0sp7TCT2x9dB"
   },
   "outputs": [
    {
     "name": "stdout",
     "output_type": "stream",
     "text": [
      "----------------- Options ---------------\n",
      "               batch_size: 1                             \n",
      "                    beta1: 0.5                           \n",
      "          checkpoints_dir: ./checkpoints                 \n",
      "           continue_train: False                         \n",
      "                crop_size: 256                           \n",
      "                 dataroot: data/mnist_blur_pairs/train   \t[default: None]\n",
      "             dataset_mode: unaligned                     \n",
      "                direction: AtoB                          \n",
      "              display_env: main                          \n",
      "             display_freq: 400                           \n",
      "               display_id: -1                            \t[default: 1]\n",
      "            display_ncols: 4                             \n",
      "             display_port: 8097                          \n",
      "           display_server: http://localhost              \n",
      "          display_winsize: 256                           \n",
      "                    epoch: latest                        \n",
      "              epoch_count: 1                             \n",
      "                 gan_mode: lsgan                         \n",
      "                  gpu_ids: 0                             \n",
      "                init_gain: 0.02                          \n",
      "                init_type: normal                        \n",
      "                 input_nc: 3                             \n",
      "                  isTrain: True                          \t[default: None]\n",
      "                 lambda_A: 10.0                          \n",
      "                 lambda_B: 10.0                          \n",
      "          lambda_identity: 0.5                           \n",
      "                load_iter: 0                             \t[default: 0]\n",
      "                load_size: 286                           \n",
      "                       lr: 0.0002                        \n",
      "           lr_decay_iters: 50                            \n",
      "                lr_policy: linear                        \n",
      "         max_dataset_size: inf                           \n",
      "                    model: cycle_gan                     \t[default: pix2pix]\n",
      "                 n_epochs: 100                           \n",
      "           n_epochs_decay: 100                           \n",
      "               n_layers_D: 3                             \n",
      "                     name: cycle_gan_mnist               \t[default: experiment_name]\n",
      "                      ndf: 64                            \n",
      "                     netD: basic                         \n",
      "                     netG: resnet_9blocks                \n",
      "                      ngf: 64                            \n",
      "               no_dropout: True                          \n",
      "                  no_flip: False                         \n",
      "                  no_html: False                         \n",
      "                     norm: instance                      \n",
      "              num_threads: 4                             \n",
      "                output_nc: 3                             \n",
      "                    phase: train                         \n",
      "                pool_size: 50                            \n",
      "               preprocess: resize_and_crop               \n",
      "               print_freq: 100                           \n",
      "             save_by_iter: False                         \n",
      "          save_epoch_freq: 5                             \n",
      "         save_latest_freq: 5000                          \n",
      "           serial_batches: False                         \n",
      "                   suffix:                               \n",
      "         update_html_freq: 1000                          \n",
      "                use_wandb: False                         \n",
      "                  verbose: False                         \n",
      "       wandb_project_name: CycleGAN-and-pix2pix          \n",
      "----------------- End -------------------\n",
      "dataset [UnalignedDataset] was created\n",
      "The number of training images = 48172\n",
      "initialize network with normal\n",
      "initialize network with normal\n",
      "initialize network with normal\n",
      "initialize network with normal\n",
      "model [CycleGANModel] was created\n",
      "---------- Networks initialized -------------\n",
      "[Network G_A] Total number of parameters : 11.378 M\n",
      "[Network G_B] Total number of parameters : 11.378 M\n",
      "[Network D_A] Total number of parameters : 2.765 M\n",
      "[Network D_B] Total number of parameters : 2.765 M\n",
      "-----------------------------------------------\n",
      "create web directory ./checkpoints/cycle_gan_mnist/web...\n",
      "/home/project/anaconda3/envs/W-Net/lib/python3.10/site-packages/torch/optim/lr_scheduler.py:224: UserWarning: Detected call of `lr_scheduler.step()` before `optimizer.step()`. In PyTorch 1.1.0 and later, you should call them in the opposite order: `optimizer.step()` before `lr_scheduler.step()`.  Failure to do this will result in PyTorch skipping the first value of the learning rate schedule. See more details at https://pytorch.org/docs/stable/optim.html#how-to-adjust-learning-rate\n",
      "  warnings.warn(\n",
      "learning rate 0.0002000 -> 0.0002000\n",
      "(epoch: 1, iters: 100, time: 0.120, data: 0.064) D_A: 0.293 G_A: 0.234 cycle_A: 0.434 idt_A: 0.331 D_B: 0.243 G_B: 0.241 cycle_B: 0.617 idt_B: 0.180 \n",
      "(epoch: 1, iters: 200, time: 0.121, data: 0.001) D_A: 0.254 G_A: 0.267 cycle_A: 0.313 idt_A: 0.322 D_B: 0.274 G_B: 0.258 cycle_B: 0.691 idt_B: 0.110 \n",
      "(epoch: 1, iters: 300, time: 0.121, data: 0.001) D_A: 0.372 G_A: 0.223 cycle_A: 0.469 idt_A: 0.537 D_B: 0.201 G_B: 0.393 cycle_B: 1.121 idt_B: 0.216 \n",
      "(epoch: 1, iters: 400, time: 0.185, data: 0.001) D_A: 0.316 G_A: 0.187 cycle_A: 0.615 idt_A: 0.373 D_B: 0.198 G_B: 0.264 cycle_B: 0.929 idt_B: 0.193 \n",
      "(epoch: 1, iters: 500, time: 0.123, data: 0.001) D_A: 0.121 G_A: 0.297 cycle_A: 0.252 idt_A: 0.719 D_B: 0.306 G_B: 0.289 cycle_B: 1.211 idt_B: 0.117 \n",
      "(epoch: 1, iters: 600, time: 0.124, data: 0.001) D_A: 0.242 G_A: 0.535 cycle_A: 0.445 idt_A: 0.398 D_B: 0.199 G_B: 0.269 cycle_B: 0.754 idt_B: 0.153 \n",
      "(epoch: 1, iters: 700, time: 0.124, data: 0.001) D_A: 0.241 G_A: 0.543 cycle_A: 0.244 idt_A: 0.652 D_B: 0.391 G_B: 0.550 cycle_B: 1.353 idt_B: 0.097 \n",
      "(epoch: 1, iters: 800, time: 0.124, data: 0.001) D_A: 0.130 G_A: 0.548 cycle_A: 0.341 idt_A: 0.376 D_B: 0.137 G_B: 0.425 cycle_B: 1.010 idt_B: 0.169 \n",
      "(epoch: 1, iters: 900, time: 0.124, data: 0.001) D_A: 0.319 G_A: 0.584 cycle_A: 0.285 idt_A: 0.143 D_B: 0.245 G_B: 0.201 cycle_B: 0.523 idt_B: 0.092 \n",
      "(epoch: 1, iters: 1000, time: 0.124, data: 0.001) D_A: 0.195 G_A: 0.324 cycle_A: 0.764 idt_A: 0.554 D_B: 0.371 G_B: 0.562 cycle_B: 1.089 idt_B: 0.251 \n",
      "(epoch: 1, iters: 1100, time: 0.125, data: 0.001) D_A: 0.174 G_A: 0.416 cycle_A: 0.425 idt_A: 0.249 D_B: 0.374 G_B: 0.525 cycle_B: 0.666 idt_B: 0.134 \n",
      "(epoch: 1, iters: 1200, time: 0.125, data: 0.001) D_A: 0.155 G_A: 0.434 cycle_A: 0.207 idt_A: 0.250 D_B: 0.208 G_B: 0.277 cycle_B: 0.615 idt_B: 0.079 \n",
      "(epoch: 1, iters: 1300, time: 0.125, data: 0.001) D_A: 0.082 G_A: 0.174 cycle_A: 0.309 idt_A: 0.186 D_B: 0.436 G_B: 0.117 cycle_B: 0.703 idt_B: 0.062 \n",
      "(epoch: 1, iters: 1400, time: 0.125, data: 0.001) D_A: 0.111 G_A: 0.345 cycle_A: 0.312 idt_A: 0.746 D_B: 0.383 G_B: 0.788 cycle_B: 1.610 idt_B: 0.072 \n",
      "(epoch: 1, iters: 1500, time: 0.125, data: 0.001) D_A: 0.335 G_A: 0.301 cycle_A: 0.204 idt_A: 0.117 D_B: 0.257 G_B: 0.332 cycle_B: 0.412 idt_B: 0.061 \n",
      "(epoch: 1, iters: 1600, time: 0.125, data: 0.001) D_A: 0.202 G_A: 0.246 cycle_A: 0.391 idt_A: 0.183 D_B: 0.178 G_B: 0.329 cycle_B: 0.635 idt_B: 0.163 \n",
      "(epoch: 1, iters: 1700, time: 0.125, data: 0.001) D_A: 0.301 G_A: 0.079 cycle_A: 0.483 idt_A: 0.632 D_B: 0.274 G_B: 0.274 cycle_B: 1.409 idt_B: 0.139 \n",
      "(epoch: 1, iters: 1800, time: 0.125, data: 0.001) D_A: 0.314 G_A: 0.406 cycle_A: 0.243 idt_A: 0.233 D_B: 0.268 G_B: 0.179 cycle_B: 0.462 idt_B: 0.049 \n",
      "(epoch: 1, iters: 1900, time: 0.125, data: 0.001) D_A: 0.127 G_A: 0.414 cycle_A: 0.257 idt_A: 0.896 D_B: 0.203 G_B: 0.338 cycle_B: 1.867 idt_B: 0.094 \n",
      "(epoch: 1, iters: 2000, time: 0.198, data: 0.001) D_A: 0.311 G_A: 0.344 cycle_A: 0.124 idt_A: 0.381 D_B: 0.256 G_B: 0.206 cycle_B: 0.658 idt_B: 0.044 \n",
      "(epoch: 1, iters: 2100, time: 0.125, data: 0.001) D_A: 0.156 G_A: 0.662 cycle_A: 0.241 idt_A: 0.470 D_B: 0.268 G_B: 0.310 cycle_B: 0.900 idt_B: 0.075 \n",
      "(epoch: 1, iters: 2200, time: 0.125, data: 0.001) D_A: 0.219 G_A: 0.141 cycle_A: 0.185 idt_A: 0.133 D_B: 0.310 G_B: 0.239 cycle_B: 0.409 idt_B: 0.064 \n",
      "(epoch: 1, iters: 2300, time: 0.125, data: 0.001) D_A: 0.227 G_A: 0.235 cycle_A: 0.292 idt_A: 0.172 D_B: 0.277 G_B: 0.259 cycle_B: 0.354 idt_B: 0.087 \n",
      "(epoch: 1, iters: 2400, time: 0.125, data: 0.001) D_A: 0.378 G_A: 0.567 cycle_A: 0.295 idt_A: 0.419 D_B: 0.311 G_B: 0.094 cycle_B: 0.902 idt_B: 0.069 \n",
      "(epoch: 1, iters: 2500, time: 0.125, data: 0.001) D_A: 0.250 G_A: 0.341 cycle_A: 0.205 idt_A: 0.777 D_B: 0.299 G_B: 0.147 cycle_B: 1.221 idt_B: 0.086 \n",
      "(epoch: 1, iters: 2600, time: 0.125, data: 0.001) D_A: 0.236 G_A: 0.072 cycle_A: 0.347 idt_A: 0.179 D_B: 0.320 G_B: 0.305 cycle_B: 0.329 idt_B: 0.042 \n",
      "(epoch: 1, iters: 2700, time: 0.125, data: 0.001) D_A: 0.186 G_A: 0.327 cycle_A: 0.221 idt_A: 0.656 D_B: 0.216 G_B: 0.198 cycle_B: 1.284 idt_B: 0.082 \n",
      "(epoch: 1, iters: 2800, time: 0.125, data: 0.001) D_A: 0.266 G_A: 0.258 cycle_A: 0.186 idt_A: 0.238 D_B: 0.324 G_B: 0.300 cycle_B: 0.627 idt_B: 0.060 \n",
      "(epoch: 1, iters: 2900, time: 0.125, data: 0.001) D_A: 0.525 G_A: 0.180 cycle_A: 0.275 idt_A: 0.345 D_B: 0.507 G_B: 0.474 cycle_B: 0.661 idt_B: 0.042 \n",
      "(epoch: 1, iters: 3000, time: 0.126, data: 0.001) D_A: 0.269 G_A: 0.128 cycle_A: 0.098 idt_A: 0.561 D_B: 0.324 G_B: 0.262 cycle_B: 1.257 idt_B: 0.032 \n",
      "(epoch: 1, iters: 3100, time: 0.126, data: 0.001) D_A: 0.171 G_A: 0.286 cycle_A: 0.209 idt_A: 0.696 D_B: 0.259 G_B: 0.196 cycle_B: 1.611 idt_B: 0.073 \n",
      "(epoch: 1, iters: 3200, time: 0.125, data: 0.001) D_A: 0.232 G_A: 0.275 cycle_A: 0.249 idt_A: 0.808 D_B: 0.242 G_B: 0.171 cycle_B: 1.740 idt_B: 0.100 \n",
      "(epoch: 1, iters: 3300, time: 0.125, data: 0.001) D_A: 0.235 G_A: 0.214 cycle_A: 0.248 idt_A: 0.076 D_B: 0.245 G_B: 0.252 cycle_B: 0.226 idt_B: 0.089 \n",
      "(epoch: 1, iters: 3400, time: 0.124, data: 0.001) D_A: 0.347 G_A: 0.339 cycle_A: 1.567 idt_A: 0.425 D_B: 0.331 G_B: 0.314 cycle_B: 0.405 idt_B: 0.246 \n",
      "(epoch: 1, iters: 3500, time: 0.125, data: 0.001) D_A: 0.037 G_A: 0.496 cycle_A: 0.427 idt_A: 0.969 D_B: 0.187 G_B: 0.551 cycle_B: 2.237 idt_B: 0.105 \n",
      "(epoch: 1, iters: 3600, time: 0.125, data: 0.001) D_A: 0.229 G_A: 0.779 cycle_A: 0.251 idt_A: 0.317 D_B: 0.239 G_B: 0.358 cycle_B: 0.837 idt_B: 0.094 \n",
      "(epoch: 1, iters: 3700, time: 0.124, data: 0.001) D_A: 0.176 G_A: 0.249 cycle_A: 0.209 idt_A: 0.111 D_B: 0.273 G_B: 0.178 cycle_B: 0.277 idt_B: 0.061 \n",
      "(epoch: 1, iters: 3800, time: 0.125, data: 0.001) D_A: 0.084 G_A: 0.720 cycle_A: 0.264 idt_A: 0.254 D_B: 0.336 G_B: 0.138 cycle_B: 0.689 idt_B: 0.062 \n",
      "(epoch: 1, iters: 3900, time: 0.125, data: 0.001) D_A: 0.504 G_A: 0.651 cycle_A: 0.392 idt_A: 0.458 D_B: 0.278 G_B: 0.119 cycle_B: 0.897 idt_B: 0.159 \n",
      "(epoch: 1, iters: 4000, time: 0.199, data: 0.001) D_A: 0.154 G_A: 0.310 cycle_A: 0.202 idt_A: 0.225 D_B: 0.271 G_B: 0.234 cycle_B: 0.496 idt_B: 0.062 \n",
      "(epoch: 1, iters: 4100, time: 0.125, data: 0.001) D_A: 0.228 G_A: 0.530 cycle_A: 0.251 idt_A: 0.198 D_B: 0.249 G_B: 0.253 cycle_B: 0.314 idt_B: 0.085 \n",
      "(epoch: 1, iters: 4200, time: 0.125, data: 0.001) D_A: 0.263 G_A: 0.548 cycle_A: 0.182 idt_A: 0.361 D_B: 0.331 G_B: 0.452 cycle_B: 0.401 idt_B: 0.069 \n",
      "(epoch: 1, iters: 4300, time: 0.125, data: 0.001) D_A: 0.095 G_A: 0.281 cycle_A: 0.133 idt_A: 0.739 D_B: 0.260 G_B: 0.190 cycle_B: 1.543 idt_B: 0.072 \n",
      "(epoch: 1, iters: 4400, time: 0.125, data: 0.001) D_A: 0.273 G_A: 0.323 cycle_A: 0.300 idt_A: 0.180 D_B: 0.279 G_B: 0.206 cycle_B: 0.575 idt_B: 0.078 \n",
      "(epoch: 1, iters: 4500, time: 0.125, data: 0.001) D_A: 0.313 G_A: 0.313 cycle_A: 0.134 idt_A: 0.167 D_B: 0.215 G_B: 0.408 cycle_B: 0.480 idt_B: 0.059 \n",
      "(epoch: 1, iters: 4600, time: 0.125, data: 0.001) D_A: 0.258 G_A: 0.295 cycle_A: 0.146 idt_A: 0.133 D_B: 0.312 G_B: 0.360 cycle_B: 0.405 idt_B: 0.050 \n",
      "(epoch: 1, iters: 4700, time: 0.125, data: 0.001) D_A: 0.311 G_A: 0.286 cycle_A: 0.582 idt_A: 0.458 D_B: 0.166 G_B: 0.250 cycle_B: 1.159 idt_B: 0.117 \n",
      "(epoch: 1, iters: 4800, time: 0.125, data: 0.001) D_A: 0.254 G_A: 0.328 cycle_A: 0.164 idt_A: 0.733 D_B: 0.324 G_B: 0.310 cycle_B: 1.494 idt_B: 0.106 \n",
      "(epoch: 1, iters: 4900, time: 0.125, data: 0.001) D_A: 0.243 G_A: 0.257 cycle_A: 0.157 idt_A: 0.089 D_B: 0.245 G_B: 0.359 cycle_B: 0.182 idt_B: 0.052 \n",
      "(epoch: 1, iters: 5000, time: 0.125, data: 0.001) D_A: 0.380 G_A: 0.165 cycle_A: 0.125 idt_A: 0.341 D_B: 0.305 G_B: 0.211 cycle_B: 0.941 idt_B: 0.050 \n",
      "saving the latest model (epoch 1, total_iters 5000)\n",
      "(epoch: 1, iters: 5100, time: 0.125, data: 0.001) D_A: 0.251 G_A: 0.304 cycle_A: 0.144 idt_A: 0.178 D_B: 0.254 G_B: 0.281 cycle_B: 0.549 idt_B: 0.038 \n",
      "(epoch: 1, iters: 5200, time: 0.125, data: 0.001) D_A: 0.272 G_A: 0.428 cycle_A: 0.131 idt_A: 0.646 D_B: 0.219 G_B: 0.499 cycle_B: 2.039 idt_B: 0.052 \n",
      "(epoch: 1, iters: 5300, time: 0.124, data: 0.001) D_A: 0.265 G_A: 0.579 cycle_A: 0.146 idt_A: 0.099 D_B: 0.322 G_B: 0.465 cycle_B: 0.249 idt_B: 0.041 \n",
      "(epoch: 1, iters: 5400, time: 0.125, data: 0.001) D_A: 0.226 G_A: 0.369 cycle_A: 0.328 idt_A: 0.403 D_B: 0.247 G_B: 0.331 cycle_B: 0.962 idt_B: 0.100 \n",
      "(epoch: 1, iters: 5500, time: 0.125, data: 0.001) D_A: 0.130 G_A: 0.409 cycle_A: 0.147 idt_A: 0.493 D_B: 0.272 G_B: 0.284 cycle_B: 1.179 idt_B: 0.044 \n",
      "(epoch: 1, iters: 5600, time: 0.125, data: 0.001) D_A: 0.172 G_A: 0.116 cycle_A: 0.321 idt_A: 0.322 D_B: 0.226 G_B: 0.476 cycle_B: 0.681 idt_B: 0.058 \n",
      "(epoch: 1, iters: 5700, time: 0.125, data: 0.001) D_A: 0.166 G_A: 0.317 cycle_A: 0.258 idt_A: 0.321 D_B: 0.254 G_B: 0.238 cycle_B: 0.902 idt_B: 0.064 \n",
      "(epoch: 1, iters: 5800, time: 0.125, data: 0.001) D_A: 0.214 G_A: 0.278 cycle_A: 0.158 idt_A: 0.062 D_B: 0.322 G_B: 0.172 cycle_B: 0.478 idt_B: 0.053 \n",
      "(epoch: 1, iters: 5900, time: 0.125, data: 0.001) D_A: 0.220 G_A: 0.456 cycle_A: 0.306 idt_A: 0.272 D_B: 0.227 G_B: 0.368 cycle_B: 0.776 idt_B: 0.098 \n",
      "(epoch: 1, iters: 6000, time: 0.209, data: 0.001) D_A: 0.391 G_A: 0.554 cycle_A: 0.105 idt_A: 0.108 D_B: 0.353 G_B: 0.245 cycle_B: 0.301 idt_B: 0.037 \n",
      "(epoch: 1, iters: 6100, time: 0.125, data: 0.001) D_A: 0.269 G_A: 0.664 cycle_A: 0.304 idt_A: 0.402 D_B: 0.255 G_B: 0.154 cycle_B: 0.968 idt_B: 0.069 \n",
      "(epoch: 1, iters: 6200, time: 0.125, data: 0.001) D_A: 0.166 G_A: 0.304 cycle_A: 0.276 idt_A: 0.171 D_B: 0.215 G_B: 0.282 cycle_B: 0.368 idt_B: 0.054 \n",
      "(epoch: 1, iters: 6300, time: 0.125, data: 0.001) D_A: 0.178 G_A: 0.285 cycle_A: 0.163 idt_A: 0.058 D_B: 0.233 G_B: 0.432 cycle_B: 0.217 idt_B: 0.034 \n",
      "(epoch: 1, iters: 6400, time: 0.125, data: 0.001) D_A: 0.216 G_A: 0.256 cycle_A: 0.218 idt_A: 0.291 D_B: 0.198 G_B: 0.337 cycle_B: 0.601 idt_B: 0.065 \n",
      "(epoch: 1, iters: 6500, time: 0.125, data: 0.001) D_A: 0.237 G_A: 0.171 cycle_A: 0.205 idt_A: 0.545 D_B: 0.214 G_B: 0.301 cycle_B: 1.235 idt_B: 0.078 \n",
      "(epoch: 1, iters: 6600, time: 0.125, data: 0.001) D_A: 0.206 G_A: 0.498 cycle_A: 0.175 idt_A: 0.060 D_B: 0.219 G_B: 0.407 cycle_B: 0.303 idt_B: 0.052 \n",
      "(epoch: 1, iters: 6700, time: 0.125, data: 0.001) D_A: 0.334 G_A: 0.206 cycle_A: 0.172 idt_A: 0.110 D_B: 0.259 G_B: 0.235 cycle_B: 0.433 idt_B: 0.047 \n",
      "(epoch: 1, iters: 6800, time: 0.125, data: 0.001) D_A: 0.194 G_A: 0.635 cycle_A: 0.197 idt_A: 0.076 D_B: 0.214 G_B: 0.296 cycle_B: 0.415 idt_B: 0.052 \n",
      "(epoch: 1, iters: 6900, time: 0.130, data: 0.001) D_A: 0.271 G_A: 0.220 cycle_A: 0.303 idt_A: 0.060 D_B: 0.252 G_B: 0.429 cycle_B: 0.331 idt_B: 0.084 \n",
      "(epoch: 1, iters: 7000, time: 0.125, data: 0.001) D_A: 0.170 G_A: 0.269 cycle_A: 0.267 idt_A: 0.148 D_B: 0.191 G_B: 0.252 cycle_B: 0.435 idt_B: 0.083 \n",
      "(epoch: 1, iters: 7100, time: 0.271, data: 0.001) D_A: 0.172 G_A: 0.247 cycle_A: 0.267 idt_A: 0.213 D_B: 0.224 G_B: 0.345 cycle_B: 0.492 idt_B: 0.071 \n",
      "(epoch: 1, iters: 7200, time: 0.277, data: 0.001) D_A: 0.273 G_A: 0.194 cycle_A: 0.208 idt_A: 0.221 D_B: 0.227 G_B: 0.170 cycle_B: 0.459 idt_B: 0.042 \n",
      "(epoch: 1, iters: 7300, time: 0.277, data: 0.001) D_A: 0.141 G_A: 0.279 cycle_A: 0.169 idt_A: 0.103 D_B: 0.247 G_B: 0.242 cycle_B: 0.386 idt_B: 0.031 \n",
      "(epoch: 1, iters: 7400, time: 0.277, data: 0.001) D_A: 0.082 G_A: 0.384 cycle_A: 0.217 idt_A: 0.443 D_B: 0.188 G_B: 0.415 cycle_B: 0.954 idt_B: 0.051 \n",
      "(epoch: 1, iters: 7500, time: 0.277, data: 0.001) D_A: 0.182 G_A: 0.426 cycle_A: 0.232 idt_A: 0.302 D_B: 0.380 G_B: 0.590 cycle_B: 0.560 idt_B: 0.042 \n",
      "(epoch: 1, iters: 7600, time: 0.275, data: 0.001) D_A: 0.192 G_A: 0.323 cycle_A: 0.253 idt_A: 0.264 D_B: 0.230 G_B: 0.323 cycle_B: 0.394 idt_B: 0.084 \n",
      "(epoch: 1, iters: 7700, time: 0.274, data: 0.001) D_A: 0.297 G_A: 0.038 cycle_A: 0.164 idt_A: 0.422 D_B: 0.275 G_B: 0.291 cycle_B: 1.000 idt_B: 0.035 \n",
      "(epoch: 1, iters: 7800, time: 0.276, data: 0.001) D_A: 0.201 G_A: 0.243 cycle_A: 1.829 idt_A: 0.220 D_B: 0.229 G_B: 0.396 cycle_B: 0.507 idt_B: 0.097 \n",
      "(epoch: 1, iters: 7900, time: 0.276, data: 0.001) D_A: 0.300 G_A: 0.427 cycle_A: 0.299 idt_A: 0.126 D_B: 0.261 G_B: 0.212 cycle_B: 0.361 idt_B: 0.078 \n",
      "(epoch: 1, iters: 8000, time: 0.362, data: 0.001) D_A: 0.196 G_A: 0.207 cycle_A: 0.140 idt_A: 0.476 D_B: 0.239 G_B: 0.272 cycle_B: 0.871 idt_B: 0.048 \n",
      "(epoch: 1, iters: 8100, time: 0.275, data: 0.001) D_A: 0.240 G_A: 0.362 cycle_A: 0.188 idt_A: 0.054 D_B: 0.246 G_B: 0.222 cycle_B: 0.209 idt_B: 0.058 \n",
      "(epoch: 1, iters: 8200, time: 0.276, data: 0.001) D_A: 0.315 G_A: 0.325 cycle_A: 0.212 idt_A: 0.078 D_B: 0.280 G_B: 0.184 cycle_B: 0.384 idt_B: 0.050 \n",
      "(epoch: 1, iters: 8300, time: 0.271, data: 0.001) D_A: 0.341 G_A: 0.188 cycle_A: 0.071 idt_A: 0.103 D_B: 0.277 G_B: 0.220 cycle_B: 0.361 idt_B: 0.022 \n",
      "(epoch: 1, iters: 8400, time: 0.277, data: 0.001) D_A: 0.214 G_A: 0.243 cycle_A: 0.287 idt_A: 0.317 D_B: 0.197 G_B: 0.200 cycle_B: 0.950 idt_B: 0.102 \n",
      "(epoch: 1, iters: 8500, time: 0.275, data: 0.001) D_A: 0.392 G_A: 0.149 cycle_A: 0.174 idt_A: 0.192 D_B: 0.261 G_B: 0.266 cycle_B: 0.381 idt_B: 0.060 \n",
      "(epoch: 1, iters: 8600, time: 0.276, data: 0.001) D_A: 0.365 G_A: 0.591 cycle_A: 0.151 idt_A: 0.191 D_B: 0.252 G_B: 0.348 cycle_B: 0.507 idt_B: 0.055 \n",
      "(epoch: 1, iters: 8700, time: 0.274, data: 0.001) D_A: 0.226 G_A: 0.366 cycle_A: 0.213 idt_A: 0.190 D_B: 0.340 G_B: 0.279 cycle_B: 0.576 idt_B: 0.031 \n",
      "(epoch: 1, iters: 8800, time: 0.275, data: 0.001) D_A: 0.156 G_A: 0.087 cycle_A: 0.124 idt_A: 0.397 D_B: 0.282 G_B: 0.179 cycle_B: 0.982 idt_B: 0.034 \n",
      "(epoch: 1, iters: 8900, time: 0.278, data: 0.001) D_A: 0.104 G_A: 0.453 cycle_A: 0.130 idt_A: 0.075 D_B: 0.250 G_B: 0.299 cycle_B: 0.349 idt_B: 0.037 \n",
      "(epoch: 1, iters: 9000, time: 0.276, data: 0.001) D_A: 0.302 G_A: 0.269 cycle_A: 0.089 idt_A: 0.409 D_B: 0.335 G_B: 0.146 cycle_B: 0.841 idt_B: 0.032 \n",
      "(epoch: 1, iters: 9100, time: 0.278, data: 0.001) D_A: 0.216 G_A: 0.452 cycle_A: 0.078 idt_A: 0.356 D_B: 0.297 G_B: 0.251 cycle_B: 0.905 idt_B: 0.022 \n",
      "(epoch: 1, iters: 9200, time: 0.275, data: 0.001) D_A: 0.275 G_A: 0.355 cycle_A: 0.139 idt_A: 0.198 D_B: 0.291 G_B: 0.327 cycle_B: 0.370 idt_B: 0.059 \n",
      "(epoch: 1, iters: 9300, time: 0.274, data: 0.001) D_A: 0.139 G_A: 0.955 cycle_A: 0.110 idt_A: 0.389 D_B: 0.246 G_B: 0.201 cycle_B: 0.845 idt_B: 0.031 \n",
      "(epoch: 1, iters: 9400, time: 0.276, data: 0.001) D_A: 0.121 G_A: 0.223 cycle_A: 0.126 idt_A: 0.389 D_B: 0.241 G_B: 0.207 cycle_B: 0.843 idt_B: 0.023 \n",
      "(epoch: 1, iters: 9500, time: 0.277, data: 0.001) D_A: 0.109 G_A: 0.146 cycle_A: 0.085 idt_A: 0.470 D_B: 0.312 G_B: 0.168 cycle_B: 1.095 idt_B: 0.023 \n",
      "(epoch: 1, iters: 9600, time: 0.275, data: 0.001) D_A: 0.104 G_A: 0.454 cycle_A: 0.138 idt_A: 0.349 D_B: 0.209 G_B: 0.190 cycle_B: 0.757 idt_B: 0.038 \n",
      "(epoch: 1, iters: 9700, time: 0.125, data: 0.001) D_A: 0.264 G_A: 0.105 cycle_A: 0.322 idt_A: 0.922 D_B: 0.257 G_B: 0.283 cycle_B: 2.187 idt_B: 0.037 \n",
      "(epoch: 1, iters: 9800, time: 0.125, data: 0.001) D_A: 0.044 G_A: 0.661 cycle_A: 0.137 idt_A: 0.135 D_B: 0.247 G_B: 0.272 cycle_B: 0.341 idt_B: 0.042 \n",
      "(epoch: 1, iters: 9900, time: 0.125, data: 0.001) D_A: 0.256 G_A: 0.163 cycle_A: 0.132 idt_A: 0.199 D_B: 0.234 G_B: 0.514 cycle_B: 0.595 idt_B: 0.048 \n",
      "(epoch: 1, iters: 10000, time: 0.198, data: 0.001) D_A: 0.142 G_A: 0.345 cycle_A: 0.128 idt_A: 0.425 D_B: 0.231 G_B: 0.299 cycle_B: 0.946 idt_B: 0.034 \n",
      "saving the latest model (epoch 1, total_iters 10000)\n",
      "(epoch: 1, iters: 10100, time: 0.125, data: 0.002) D_A: 0.473 G_A: 0.723 cycle_A: 0.157 idt_A: 0.289 D_B: 0.281 G_B: 0.201 cycle_B: 0.550 idt_B: 0.058 \n",
      "(epoch: 1, iters: 10200, time: 0.125, data: 0.001) D_A: 0.089 G_A: 0.518 cycle_A: 0.130 idt_A: 0.505 D_B: 0.260 G_B: 0.321 cycle_B: 1.045 idt_B: 0.042 \n",
      "(epoch: 1, iters: 10300, time: 0.125, data: 0.001) D_A: 0.229 G_A: 0.636 cycle_A: 0.167 idt_A: 0.108 D_B: 0.257 G_B: 0.221 cycle_B: 0.245 idt_B: 0.069 \n",
      "(epoch: 1, iters: 10400, time: 0.125, data: 0.001) D_A: 0.084 G_A: 0.141 cycle_A: 0.219 idt_A: 0.622 D_B: 0.232 G_B: 0.373 cycle_B: 1.403 idt_B: 0.051 \n",
      "(epoch: 1, iters: 10500, time: 0.126, data: 0.001) D_A: 0.535 G_A: 1.661 cycle_A: 0.146 idt_A: 0.432 D_B: 0.233 G_B: 0.291 cycle_B: 0.849 idt_B: 0.045 \n",
      "(epoch: 1, iters: 10600, time: 0.125, data: 0.001) D_A: 0.221 G_A: 0.419 cycle_A: 0.142 idt_A: 0.427 D_B: 0.218 G_B: 0.312 cycle_B: 0.680 idt_B: 0.034 \n",
      "(epoch: 1, iters: 10700, time: 0.126, data: 0.001) D_A: 0.057 G_A: 0.563 cycle_A: 0.147 idt_A: 0.257 D_B: 0.327 G_B: 0.176 cycle_B: 0.583 idt_B: 0.054 \n",
      "(epoch: 1, iters: 10800, time: 0.125, data: 0.001) D_A: 0.173 G_A: 0.307 cycle_A: 0.107 idt_A: 0.136 D_B: 0.224 G_B: 0.259 cycle_B: 0.287 idt_B: 0.029 \n",
      "(epoch: 1, iters: 10900, time: 0.125, data: 0.001) D_A: 0.241 G_A: 0.256 cycle_A: 0.151 idt_A: 0.152 D_B: 0.233 G_B: 0.320 cycle_B: 0.534 idt_B: 0.045 \n",
      "(epoch: 1, iters: 11000, time: 0.125, data: 0.001) D_A: 0.197 G_A: 0.476 cycle_A: 0.131 idt_A: 0.709 D_B: 0.239 G_B: 0.252 cycle_B: 1.374 idt_B: 0.048 \n",
      "(epoch: 1, iters: 11100, time: 0.125, data: 0.001) D_A: 0.241 G_A: 1.139 cycle_A: 0.111 idt_A: 0.142 D_B: 0.272 G_B: 0.190 cycle_B: 0.230 idt_B: 0.033 \n",
      "(epoch: 1, iters: 11200, time: 0.125, data: 0.001) D_A: 0.135 G_A: 0.382 cycle_A: 0.114 idt_A: 0.103 D_B: 0.321 G_B: 0.542 cycle_B: 0.268 idt_B: 0.028 \n",
      "(epoch: 1, iters: 11300, time: 0.124, data: 0.001) D_A: 0.113 G_A: 0.321 cycle_A: 0.098 idt_A: 0.205 D_B: 0.238 G_B: 0.364 cycle_B: 0.448 idt_B: 0.040 \n",
      "(epoch: 1, iters: 11400, time: 0.125, data: 0.001) D_A: 0.056 G_A: 0.916 cycle_A: 0.061 idt_A: 0.070 D_B: 0.303 G_B: 0.256 cycle_B: 0.309 idt_B: 0.015 \n"
     ]
    }
   ],
   "source": [
    "!python train.py --dataroot data/mnist_blur_pairs/train --name cycle_gan_mnist --model cycle_gan --display_id -1"
   ]
  },
  {
   "cell_type": "markdown",
   "metadata": {
    "colab_type": "text",
    "id": "9UkcaFZiyASl"
   },
   "source": [
    "# Testing\n",
    "\n",
    "-   `python test.py --dataroot datasets/horse2zebra/testA --name horse2zebra_pretrained --model test --no_dropout`\n",
    "\n",
    "Change the `--dataroot` and `--name` to be consistent with your trained model's configuration.\n",
    "\n",
    "> from https://github.com/junyanz/pytorch-CycleGAN-and-pix2pix:\n",
    "> The option --model test is used for generating results of CycleGAN only for one side. This option will automatically set --dataset_mode single, which only loads the images from one set. On the contrary, using --model cycle_gan requires loading and generating results in both directions, which is sometimes unnecessary. The results will be saved at ./results/. Use --results_dir {directory_path_to_save_result} to specify the results directory.\n",
    "\n",
    "> For your own experiments, you might want to specify --netG, --norm, --no_dropout to match the generator architecture of the trained model."
   ]
  },
  {
   "cell_type": "code",
   "execution_count": null,
   "metadata": {
    "colab": {},
    "colab_type": "code",
    "id": "uCsKkEq0yGh0"
   },
   "outputs": [],
   "source": [
    "!python test.py --dataroot datasets/horse2zebra/testA --name horse2zebra_pretrained --model test --no_dropout"
   ]
  },
  {
   "cell_type": "markdown",
   "metadata": {
    "colab_type": "text",
    "id": "OzSKIPUByfiN"
   },
   "source": [
    "# Visualize"
   ]
  },
  {
   "cell_type": "code",
   "execution_count": null,
   "metadata": {
    "colab": {},
    "colab_type": "code",
    "id": "9Mgg8raPyizq"
   },
   "outputs": [],
   "source": [
    "import matplotlib.pyplot as plt\n",
    "\n",
    "img = plt.imread('./results/horse2zebra_pretrained/test_latest/images/n02381460_1010_fake.png')\n",
    "plt.imshow(img)"
   ]
  },
  {
   "cell_type": "code",
   "execution_count": null,
   "metadata": {
    "colab": {},
    "colab_type": "code",
    "id": "0G3oVH9DyqLQ"
   },
   "outputs": [],
   "source": [
    "import matplotlib.pyplot as plt\n",
    "\n",
    "img = plt.imread('./results/horse2zebra_pretrained/test_latest/images/n02381460_1010_real.png')\n",
    "plt.imshow(img)"
   ]
  }
 ],
 "metadata": {
  "accelerator": "GPU",
  "colab": {
   "collapsed_sections": [],
   "include_colab_link": true,
   "name": "CycleGAN",
   "provenance": []
  },
  "environment": {
   "name": "tf2-gpu.2-3.m74",
   "type": "gcloud",
   "uri": "gcr.io/deeplearning-platform-release/tf2-gpu.2-3:m74"
  },
  "kernelspec": {
   "display_name": "W-Net",
   "language": "python",
   "name": "python3"
  },
  "language_info": {
   "codemirror_mode": {
    "name": "ipython",
    "version": 3
   },
   "file_extension": ".py",
   "mimetype": "text/x-python",
   "name": "python",
   "nbconvert_exporter": "python",
   "pygments_lexer": "ipython3",
   "version": "3.10.15"
  }
 },
 "nbformat": 4,
 "nbformat_minor": 4
}
